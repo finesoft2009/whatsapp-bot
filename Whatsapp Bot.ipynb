{
 "cells": [
  {
   "cell_type": "code",
   "execution_count": null,
   "metadata": {},
   "outputs": [],
   "source": [
    "import bs4 as bs\n",
    "import pandas as pd\n",
    "import numpy as np\n",
    "import random\n",
    "import time\n",
    "from selenium import webdriver\n",
    "from selenium.webdriver.common.keys import Keys\n",
    "from selenium.webdriver.common.by import By \n",
    "from selenium.webdriver.support.ui import WebDriverWait\n",
    "from selenium.webdriver.support import expected_conditions as EC\n",
    "from selenium.webdriver import ActionChains\n",
    "from selenium.webdriver import ChromeOptions\n",
    "from subprocess import call\n",
    "from keyboard import press\n",
    "from tqdm import tqdm\n",
    "from dalab import to_pickle\n",
    "from dalab import read_pickle"
   ]
  },
  {
   "cell_type": "code",
   "execution_count": null,
   "metadata": {},
   "outputs": [],
   "source": [
    "real_phones = read_pickle('data/phone_lists/real_phones.pickle')\n",
    "fake_phones = read_pickle('data/phone_lists/fake_phones.pickle')"
   ]
  },
  {
   "cell_type": "code",
   "execution_count": null,
   "metadata": {},
   "outputs": [],
   "source": [
    "# emojis = ['🔥','😀','💥','🎧','🎸','✌','🙌','😄','🙂','🙃']\n",
    "emojis = [':)', ':D', '!!']\n",
    "\n",
    "msg_1 = 'Oi, td bem? Meu nome é Layane, to divulgando o novo single dos meninos do Passageiro, dá uma olhada, ve o que vc achou e me conta depois!'\n",
    "msg_2 = 'Oie, tudo joia? Eu sou a Layane, queria te mostrar a nova música do Passageiro, os meninos são MUITO BONS, aqui de Uberlândia, clica pra ver!'\n",
    "msg_3 = 'E aí, tá joia? Só queria te contar que o duo Passageiro lançou uma música muito massa! Quer ver? Clica aí no link... Já está no Spotify e no YouTube! Muito obrigada pela atenção' \n",
    "\n",
    "phones = read_pickle('data/phone_lists/34988.pickle')\n",
    "phones = [phone for phone in phones if phone not in real_phones and phone not in fake_phones]\n",
    "\n",
    "adlink = 'https://www.youtube.com/watch?v=DyBvq1x0qwY&list=RDEMQpWOLGqXNbM7x1yAl8Rnqw&start_radio=1'\n",
    "msg_list = [msg_1, msg_2, msg_3]"
   ]
  },
  {
   "cell_type": "code",
   "execution_count": null,
   "metadata": {},
   "outputs": [],
   "source": [
    "def about(n):\n",
    "    s = n/10\n",
    "    n = np.random.normal(n, scale=s)\n",
    "    return n"
   ]
  },
  {
   "cell_type": "code",
   "execution_count": null,
   "metadata": {},
   "outputs": [],
   "source": [
    "load_qr = 15\n",
    "load_pg = 6\n",
    "\n",
    "next_message = about(10)\n",
    "next_contact = about(120)"
   ]
  },
  {
   "cell_type": "code",
   "execution_count": null,
   "metadata": {},
   "outputs": [],
   "source": [
    "def open_whasapp(headless=False, phone='5534988722041'):\n",
    "    url = 'https://api.whatsapp.com/send?phone=' + phone + '&text='\n",
    "    options = ChromeOptions()\n",
    "    driver = webdriver.Chrome(options=options)\n",
    "    driver.get(url)\n",
    "    time.sleep(load_pg)\n",
    "\n",
    "    chains = ActionChains(driver)\n",
    "    hover = chains.move_to_element(driver.find_element_by_id(\"action-button\"))\n",
    "    hover.click().perform()\n",
    "    \n",
    "    print('Connected to Whatsapp, please insert QR code.')\n",
    "    time.sleep(load_qr)\n",
    "    return driver"
   ]
  },
  {
   "cell_type": "code",
   "execution_count": null,
   "metadata": {},
   "outputs": [],
   "source": [
    "def create_messages(msg_list=msg_list, adlink=adlink, emojis=emojis):\n",
    "    msg = random.choice(msg_list)\n",
    "    emoji = random.choice(emojis)\n",
    "    msg = msg + ' ' + emoji\n",
    "    messages = [msg, adlink]\n",
    "    return messages"
   ]
  },
  {
   "cell_type": "code",
   "execution_count": null,
   "metadata": {},
   "outputs": [],
   "source": [
    "def send_messages(driver, phones, msg_list, adlink):\n",
    "    real_phones = []\n",
    "    fake_phones = []\n",
    "    for phone in phones:\n",
    "        try:\n",
    "            messages = create_messages(msg_list, adlink)\n",
    "            url = 'https://api.whatsapp.com/send?phone=' + phone + '&text='\n",
    "            driver.get(url)\n",
    "            time.sleep(load_pg)\n",
    "            press('enter')\n",
    "            press('enter')\n",
    "            press('enter')\n",
    "            time.sleep(load_pg)\n",
    "\n",
    "            chains = ActionChains(driver)\n",
    "            hover = chains.move_to_element(driver.find_element_by_id(\"action-button\"))\n",
    "            hover.click().perform()\n",
    "            hover.click().perform()\n",
    "            hover.click().perform()\n",
    "            time.sleep(load_pg)\n",
    "\n",
    "            chains = ActionChains(driver)\n",
    "            hover = chains.move_to_element(driver.find_element_by_class_name(\"_1Plpp\"))\n",
    "            hover.click().perform()\n",
    "            hover.reset_actions()\n",
    "\n",
    "            for msg in messages:\n",
    "                hover.send_keys(msg).perform()\n",
    "                time.sleep(load_pg)\n",
    "                hover.reset_actions()\n",
    "\n",
    "                hover.send_keys(Keys.ENTER).perform()\n",
    "                time.sleep(next_message)\n",
    "\n",
    "            time.sleep(next_contact)\n",
    "            real_phones.append(phone)\n",
    "            to_pickle(real_phones, 'data/phone_lists/real_phones')\n",
    "            \n",
    "        except: \n",
    "            print('Could not send message.')\n",
    "            fake_phones.append(phone)\n",
    "            to_pickle(fake_phones, 'data/phone_lists/fake_phones')\n",
    "                \n",
    "            "
   ]
  },
  {
   "cell_type": "code",
   "execution_count": null,
   "metadata": {},
   "outputs": [],
   "source": [
    "driver = open_whasapp()"
   ]
  },
  {
   "cell_type": "code",
   "execution_count": null,
   "metadata": {},
   "outputs": [],
   "source": [
    "send_messages(driver, phones, msg_list, adlink)"
   ]
  },
  {
   "cell_type": "code",
   "execution_count": null,
   "metadata": {},
   "outputs": [],
   "source": [
    "\n",
    "\n"
   ]
  },
  {
   "cell_type": "code",
   "execution_count": null,
   "metadata": {},
   "outputs": [],
   "source": []
  },
  {
   "cell_type": "code",
   "execution_count": null,
   "metadata": {},
   "outputs": [],
   "source": []
  },
  {
   "cell_type": "code",
   "execution_count": null,
   "metadata": {},
   "outputs": [],
   "source": [
    "def generate_phone(n_digits=9, ddi='55', ddd='34', first_numbers='988'):\n",
    "    digits = [0,1,2,3,4,5,6,7,8,9]\n",
    "    phone = [i for i in ddi + ddd + first_numbers]\n",
    "    n = n_digits - len(first_numbers)\n",
    "    for i in range(n):\n",
    "        phone.append(str(random.choice(digits)))\n",
    "    return ''.join(phone)"
   ]
  },
  {
   "cell_type": "code",
   "execution_count": null,
   "metadata": {},
   "outputs": [],
   "source": [
    "def generate_phone_list(n):\n",
    "    phone_list = []\n",
    "    for _ in tqdm(range(n)):\n",
    "        phone_list.append(generate_phone())\n",
    "    phone_list = list(set(phone_list))\n",
    "    return phone_list"
   ]
  },
  {
   "cell_type": "code",
   "execution_count": null,
   "metadata": {},
   "outputs": [],
   "source": [
    "# phone_list = generate_phone_list(20000000)\n",
    "# to_pickle(phone_list, 'data/phone_lists/34988')"
   ]
  },
  {
   "cell_type": "code",
   "execution_count": null,
   "metadata": {},
   "outputs": [],
   "source": []
  }
 ],
 "metadata": {
  "kernelspec": {
   "display_name": "Python [conda env:anaconda]",
   "language": "python",
   "name": "conda-env-anaconda-py"
  },
  "language_info": {
   "codemirror_mode": {
    "name": "ipython",
    "version": 3
   },
   "file_extension": ".py",
   "mimetype": "text/x-python",
   "name": "python",
   "nbconvert_exporter": "python",
   "pygments_lexer": "ipython3",
   "version": "3.6.8"
  }
 },
 "nbformat": 4,
 "nbformat_minor": 2
}
